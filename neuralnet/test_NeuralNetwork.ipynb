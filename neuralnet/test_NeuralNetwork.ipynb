{
 "cells": [
  {
   "cell_type": "code",
   "execution_count": 39,
   "metadata": {},
   "outputs": [],
   "source": [
    "import csv\n",
    "import pandas as pd\n",
    "\n",
    "# add header names\n",
    "headers =  ['age', 'sex','chest_pain','resting_blood_pressure',  \n",
    "        'serum_cholestoral', 'fasting_blood_sugar', 'resting_ecg_results',\n",
    "        'max_heart_rate_achieved', 'exercise_induced_angina', 'oldpeak',\"slope of the peak\",\n",
    "        'num_of_major_vessels','thal', 'heart_disease']\n",
    "\n",
    "heart_df = pd.read_csv('/home/raffaele/Documents/ml-project/datasets/heart.dat', sep=' ', names=headers)"
   ]
  },
  {
   "cell_type": "code",
   "execution_count": 40,
   "metadata": {},
   "outputs": [
    {
     "name": "stdout",
     "output_type": "stream",
     "text": [
      "Shape of train set is (216, 13)\n",
      "Shape of test set is (54, 13)\n",
      "Shape of train label is (216, 1)\n",
      "Shape of test labels is (54, 1)\n"
     ]
    }
   ],
   "source": [
    "import warnings\n",
    "warnings.filterwarnings(\"ignore\")\n",
    "import matplotlib.pyplot as plt\n",
    "from sklearn.model_selection import train_test_split\n",
    "from sklearn.preprocessing import StandardScaler\n",
    "\n",
    "#convert imput to numpy arrays\n",
    "X = heart_df.drop(columns=['heart_disease'])\n",
    "\n",
    "#replace target class with 0 and 1 \n",
    "#1 means \"have heart disease\" and 0 means \"do not have heart disease\"\n",
    "heart_df['heart_disease'] = heart_df['heart_disease'].replace(1, 0)\n",
    "heart_df['heart_disease'] = heart_df['heart_disease'].replace(2, 1)\n",
    "\n",
    "y_label = heart_df['heart_disease'].values.reshape(X.shape[0], 1)\n",
    "\n",
    "#split data into train and test set\n",
    "Xtrain, Xtest, ytrain, ytest = train_test_split(X, y_label, test_size=0.2, random_state=2)\n",
    "\n",
    "#standardize the dataset\n",
    "sc = StandardScaler()\n",
    "sc.fit(Xtrain)\n",
    "Xtrain = sc.transform(Xtrain)\n",
    "Xtest = sc.transform(Xtest)\n",
    "\n",
    "# Xtrain = Xtrain.reshape(Xtrain.shape[0], 1, 13)\n",
    "# Xtest = Xtest.reshape(Xtest.shape[0], 1, 13)\n",
    "# ytrain = ytrain.reshape(ytrain.shape[0], 1, 1)\n",
    "# ytest = ytest.reshape(ytest.shape[0], 1, 1)\n",
    "\n",
    "print(f\"Shape of train set is {Xtrain.shape}\")\n",
    "print(f\"Shape of test set is {Xtest.shape}\")\n",
    "print(f\"Shape of train label is {ytrain.shape}\")\n",
    "print(f\"Shape of test labels is {ytest.shape}\")"
   ]
  },
  {
   "cell_type": "code",
   "execution_count": 68,
   "metadata": {},
   "outputs": [],
   "source": [
    "class Network:\n",
    "    def __init__(self):\n",
    "        self.layers = []\n",
    "        self.loss = None\n",
    "        self.loss_prime = None\n",
    "        self.train_loss_history = []\n",
    "        self.val_accuracy_history = []\n",
    "\n",
    "    # add layer to network\n",
    "    def add(self, layer):\n",
    "        self.layers.append(layer)\n",
    "\n",
    "    # set loss to use\n",
    "    def use(self, loss, loss_prime):\n",
    "        self.loss = loss\n",
    "        self.loss_prime = loss_prime\n",
    "\n",
    "    # predict output for given input\n",
    "    def predict(self, input_data):\n",
    "        # sample dimension first\n",
    "        samples = len(input_data)\n",
    "        result = []\n",
    "\n",
    "        # run network over all samples\n",
    "        for i in range(samples):\n",
    "            # forward propagation\n",
    "            output = input_data[i]\n",
    "            for layer in self.layers:\n",
    "                output = layer.forward_propagation(output)\n",
    "            \n",
    "            if (output.shape == (1,1)):\n",
    "                output = output[0]\n",
    "                \n",
    "            result.append(output)\n",
    "\n",
    "        return result\n",
    "\n",
    "    # train the network\n",
    "    def fit(self, x_train, y_train, epochs, learning_rate):\n",
    "        # sample dimension first\n",
    "        samples = len(x_train)\n",
    "\n",
    "        # training loop\n",
    "        for i in range(epochs):\n",
    "            err = 0\n",
    "            for j in range(samples):\n",
    "                # forward propagation\n",
    "                output = x_train[j]\n",
    "                output = output.reshape(1, output.shape[0])\n",
    "                for layer in self.layers:\n",
    "                    output = layer.forward_propagation(output)\n",
    "\n",
    "                # compute loss (for display purpose only)\n",
    "                err += self.loss(y_train[j], output)\n",
    "\n",
    "                # backward propagation\n",
    "                error = self.loss_prime(y_train[j], output)\n",
    "                for layer in reversed(self.layers):\n",
    "                    error = layer.backward_propagation(error, learning_rate)\n",
    "\n",
    "            # calculate average error on all samples\n",
    "            err /= samples\n",
    "            # append error to plot it later\n",
    "            self.train_loss_history.append(err)\n",
    "            # do prediction, cal\n",
    "            pred = self.predict(x_train)\n",
    "            acc = self.accuracy(y_train, pred)\n",
    "            self.val_accuracy_history.append(acc)\n",
    "            print('epoch %d/%d   error=%f    accuracy=%f' % (i+1, epochs, err,acc))\n",
    "            \n",
    "    def accuracy(self, ytrain, yhat):\n",
    "        acc = np.sum(np.round(yhat) == ytrain) / len(ytrain)\n",
    "        return acc"
   ]
  },
  {
   "cell_type": "code",
   "execution_count": 70,
   "metadata": {
    "scrolled": true
   },
   "outputs": [
    {
     "name": "stdout",
     "output_type": "stream",
     "text": [
      "epoch 1/100   error=0.254355    accuracy=0.537037\n",
      "epoch 2/100   error=0.244661    accuracy=0.546296\n",
      "epoch 3/100   error=0.237405    accuracy=0.550926\n",
      "epoch 4/100   error=0.230978    accuracy=0.560185\n",
      "epoch 5/100   error=0.224860    accuracy=0.625000\n",
      "epoch 6/100   error=0.218861    accuracy=0.657407\n",
      "epoch 7/100   error=0.212908    accuracy=0.726852\n",
      "epoch 8/100   error=0.206984    accuracy=0.759259\n",
      "epoch 9/100   error=0.201097    accuracy=0.773148\n",
      "epoch 10/100   error=0.195271    accuracy=0.777778\n",
      "epoch 11/100   error=0.189532    accuracy=0.791667\n",
      "epoch 12/100   error=0.183912    accuracy=0.787037\n",
      "epoch 13/100   error=0.178436    accuracy=0.787037\n",
      "epoch 14/100   error=0.173133    accuracy=0.800926\n",
      "epoch 15/100   error=0.168023    accuracy=0.805556\n",
      "epoch 16/100   error=0.163125    accuracy=0.814815\n",
      "epoch 17/100   error=0.158455    accuracy=0.828704\n",
      "epoch 18/100   error=0.154022    accuracy=0.828704\n",
      "epoch 19/100   error=0.149834    accuracy=0.833333\n",
      "epoch 20/100   error=0.145892    accuracy=0.837963\n",
      "epoch 21/100   error=0.142197    accuracy=0.847222\n",
      "epoch 22/100   error=0.138742    accuracy=0.847222\n",
      "epoch 23/100   error=0.135521    accuracy=0.847222\n",
      "epoch 24/100   error=0.132526    accuracy=0.847222\n",
      "epoch 25/100   error=0.129744    accuracy=0.847222\n",
      "epoch 26/100   error=0.127165    accuracy=0.847222\n",
      "epoch 27/100   error=0.124776    accuracy=0.856481\n",
      "epoch 28/100   error=0.122564    accuracy=0.851852\n",
      "epoch 29/100   error=0.120516    accuracy=0.851852\n",
      "epoch 30/100   error=0.118620    accuracy=0.851852\n",
      "epoch 31/100   error=0.116863    accuracy=0.851852\n",
      "epoch 32/100   error=0.115235    accuracy=0.851852\n",
      "epoch 33/100   error=0.113724    accuracy=0.856481\n",
      "epoch 34/100   error=0.112321    accuracy=0.861111\n",
      "epoch 35/100   error=0.111016    accuracy=0.861111\n",
      "epoch 36/100   error=0.109799    accuracy=0.861111\n",
      "epoch 37/100   error=0.108664    accuracy=0.861111\n",
      "epoch 38/100   error=0.107603    accuracy=0.861111\n",
      "epoch 39/100   error=0.106610    accuracy=0.861111\n",
      "epoch 40/100   error=0.105677    accuracy=0.856481\n",
      "epoch 41/100   error=0.104801    accuracy=0.856481\n",
      "epoch 42/100   error=0.103975    accuracy=0.856481\n",
      "epoch 43/100   error=0.103196    accuracy=0.856481\n",
      "epoch 44/100   error=0.102460    accuracy=0.851852\n",
      "epoch 45/100   error=0.101762    accuracy=0.851852\n",
      "epoch 46/100   error=0.101101    accuracy=0.851852\n",
      "epoch 47/100   error=0.100472    accuracy=0.851852\n",
      "epoch 48/100   error=0.099873    accuracy=0.851852\n",
      "epoch 49/100   error=0.099303    accuracy=0.861111\n",
      "epoch 50/100   error=0.098759    accuracy=0.861111\n",
      "epoch 51/100   error=0.098238    accuracy=0.861111\n",
      "epoch 52/100   error=0.097741    accuracy=0.861111\n",
      "epoch 53/100   error=0.097265    accuracy=0.861111\n",
      "epoch 54/100   error=0.096808    accuracy=0.861111\n",
      "epoch 55/100   error=0.096370    accuracy=0.861111\n",
      "epoch 56/100   error=0.095949    accuracy=0.861111\n",
      "epoch 57/100   error=0.095545    accuracy=0.861111\n",
      "epoch 58/100   error=0.095157    accuracy=0.861111\n",
      "epoch 59/100   error=0.094784    accuracy=0.861111\n",
      "epoch 60/100   error=0.094424    accuracy=0.861111\n",
      "epoch 61/100   error=0.094078    accuracy=0.861111\n",
      "epoch 62/100   error=0.093744    accuracy=0.861111\n",
      "epoch 63/100   error=0.093423    accuracy=0.861111\n",
      "epoch 64/100   error=0.093112    accuracy=0.861111\n",
      "epoch 65/100   error=0.092812    accuracy=0.861111\n",
      "epoch 66/100   error=0.092523    accuracy=0.861111\n",
      "epoch 67/100   error=0.092243    accuracy=0.861111\n",
      "epoch 68/100   error=0.091972    accuracy=0.861111\n",
      "epoch 69/100   error=0.091710    accuracy=0.865741\n",
      "epoch 70/100   error=0.091456    accuracy=0.865741\n",
      "epoch 71/100   error=0.091209    accuracy=0.865741\n",
      "epoch 72/100   error=0.090971    accuracy=0.865741\n",
      "epoch 73/100   error=0.090739    accuracy=0.865741\n",
      "epoch 74/100   error=0.090513    accuracy=0.865741\n",
      "epoch 75/100   error=0.090294    accuracy=0.865741\n",
      "epoch 76/100   error=0.090082    accuracy=0.865741\n",
      "epoch 77/100   error=0.089874    accuracy=0.865741\n",
      "epoch 78/100   error=0.089672    accuracy=0.865741\n",
      "epoch 79/100   error=0.089476    accuracy=0.870370\n",
      "epoch 80/100   error=0.089284    accuracy=0.870370\n",
      "epoch 81/100   error=0.089097    accuracy=0.870370\n",
      "epoch 82/100   error=0.088915    accuracy=0.870370\n",
      "epoch 83/100   error=0.088737    accuracy=0.875000\n",
      "epoch 84/100   error=0.088563    accuracy=0.875000\n",
      "epoch 85/100   error=0.088393    accuracy=0.875000\n",
      "epoch 86/100   error=0.088226    accuracy=0.875000\n",
      "epoch 87/100   error=0.088064    accuracy=0.879630\n",
      "epoch 88/100   error=0.087905    accuracy=0.879630\n",
      "epoch 89/100   error=0.087749    accuracy=0.879630\n",
      "epoch 90/100   error=0.087596    accuracy=0.879630\n",
      "epoch 91/100   error=0.087447    accuracy=0.879630\n",
      "epoch 92/100   error=0.087301    accuracy=0.884259\n",
      "epoch 93/100   error=0.087157    accuracy=0.884259\n",
      "epoch 94/100   error=0.087016    accuracy=0.884259\n",
      "epoch 95/100   error=0.086878    accuracy=0.884259\n",
      "epoch 96/100   error=0.086743    accuracy=0.884259\n",
      "epoch 97/100   error=0.086610    accuracy=0.884259\n",
      "epoch 98/100   error=0.086480    accuracy=0.884259\n",
      "epoch 99/100   error=0.086351    accuracy=0.884259\n",
      "epoch 100/100   error=0.086226    accuracy=0.884259\n"
     ]
    }
   ],
   "source": [
    "import numpy as np\n",
    "\n",
    "from layers import LayerDense,ActivationLayer\n",
    "from activations import tanh, tanh_prime, sigmoid, sigmoid_prime\n",
    "from losses import mse, mse_prime\n",
    "\n",
    "# network\n",
    "net = Network()\n",
    "net.add(LayerDense(13, 5))\n",
    "net.add(ActivationLayer(sigmoid, sigmoid_prime))\n",
    "net.add(LayerDense(5, 1))\n",
    "net.add(ActivationLayer(sigmoid, sigmoid_prime))\n",
    "# train\n",
    "net.use(mse, mse_prime)\n",
    "net.fit(Xtrain, ytrain, epochs=100, learning_rate=0.01)\n",
    "\n",
    "# test\n",
    "out = net.predict(Xtrain)"
   ]
  },
  {
   "cell_type": "code",
   "execution_count": 71,
   "metadata": {},
   "outputs": [],
   "source": [
    "res = []\n",
    "\n",
    "for i in out:\n",
    "    i = np.round(i)\n",
    "    res.append(i)\n",
    "    \n",
    "res = np.array(res)"
   ]
  },
  {
   "cell_type": "code",
   "execution_count": 44,
   "metadata": {},
   "outputs": [
    {
     "data": {
      "text/plain": [
       "0.9490740740740741"
      ]
     },
     "execution_count": 44,
     "metadata": {},
     "output_type": "execute_result"
    }
   ],
   "source": [
    "np.sum(res == ytrain) / len(ytrain)"
   ]
  },
  {
   "cell_type": "code",
   "execution_count": 18,
   "metadata": {
    "scrolled": false
   },
   "outputs": [
    {
     "data": {
      "image/png": "[encoded data removed]",
      "text/plain": [
       "<Figure size 432x288 with 1 Axes>"
      ]
     },
     "metadata": {},
     "output_type": "display_data"
    }
   ],
   "source": [
    "import matplotlib.pyplot as plt\n",
    "plt.style.use('ggplot')\n",
    "\n",
    "fig, loss = plt.subplots()\n",
    "loss.plot(net.train_loss_history, color='navy', lw=2)\n",
    "loss.set_title('model loss')\n",
    "loss.set_xlabel('epoch')\n",
    "loss.set_ylabel('loss')\n",
    "loss.legend(['training', 'validation']).get_frame().set_facecolor('white')\n",
    "plt.show()"
   ]
  },
  {
   "cell_type": "code",
   "execution_count": 72,
   "metadata": {},
   "outputs": [
    {
     "data": {
      "image/png": "[encoded data removed]",
      "text/plain": [
       "<Figure size 432x288 with 1 Axes>"
      ]
     },
     "metadata": {},
     "output_type": "display_data"
    }
   ],
   "source": [
    "plt.style.use('ggplot')\n",
    "\n",
    "fig, loss = plt.subplots()\n",
    "loss.plot(net.val_accuracy_history, color='navy', lw=2)\n",
    "loss.set_title('model accuracy')\n",
    "loss.set_xlabel('epoch')\n",
    "loss.set_ylabel('loss')\n",
    "loss.legend(['training', 'validation']).get_frame().set_facecolor('white')\n",
    "plt.show()"
   ]
  }
 ],
 "metadata": {
  "kernelspec": {
   "display_name": "Python 3",
   "language": "python",
   "name": "python3"
  },
  "language_info": {
   "codemirror_mode": {
    "name": "ipython",
    "version": 3
   },
   "file_extension": ".py",
   "mimetype": "text/x-python",
   "name": "python",
   "nbconvert_exporter": "python",
   "pygments_lexer": "ipython3",
   "version": "3.8.5"
  }
 },
 "nbformat": 4,
 "nbformat_minor": 4
}

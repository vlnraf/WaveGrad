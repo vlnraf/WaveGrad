{
 "cells": [
  {
   "cell_type": "code",
   "execution_count": 1,
   "metadata": {},
   "outputs": [],
   "source": [
    "%matplotlib inline"
   ]
  },
  {
   "cell_type": "code",
   "execution_count": 2,
   "metadata": {},
   "outputs": [],
   "source": [
    "import pandas as pd\n",
    "import numpy as np\n",
    "import matplotlib.pyplot as plt\n",
    "from sklearn.model_selection import train_test_split\n",
    "from sklearn.model_selection import GridSearchCV\n",
    "from sklearn.metrics import classification_report\n",
    "from sklearn.neighbors import KNeighborsClassifier"
   ]
  },
  {
   "cell_type": "code",
   "execution_count": 3,
   "metadata": {},
   "outputs": [],
   "source": [
    "path = '~/Documents/dmproject/datasets/'"
   ]
  },
  {
   "cell_type": "code",
   "execution_count": 4,
   "metadata": {},
   "outputs": [],
   "source": [
    "df = pd.read_csv(path + 'train.csv')"
   ]
  },
  {
   "cell_type": "code",
   "execution_count": 5,
   "metadata": {},
   "outputs": [],
   "source": [
    "# Drop the id column, it' s not necessary to the classification task\n",
    "df.drop(df.columns[0], axis=1, inplace=True)\n",
    "df.drop(df.columns[6], axis=1, inplace=True)"
   ]
  },
  {
   "cell_type": "code",
   "execution_count": 6,
   "metadata": {},
   "outputs": [
    {
     "data": {
      "text/html": [
       "<div>\n",
       "<style scoped>\n",
       "    .dataframe tbody tr th:only-of-type {\n",
       "        vertical-align: middle;\n",
       "    }\n",
       "\n",
       "    .dataframe tbody tr th {\n",
       "        vertical-align: top;\n",
       "    }\n",
       "\n",
       "    .dataframe thead th {\n",
       "        text-align: right;\n",
       "    }\n",
       "</style>\n",
       "<table border=\"1\" class=\"dataframe\">\n",
       "  <thead>\n",
       "    <tr style=\"text-align: right;\">\n",
       "      <th></th>\n",
       "      <th>TotalItems</th>\n",
       "      <th>DistinctItems</th>\n",
       "      <th>MaxItems</th>\n",
       "      <th>Entropy</th>\n",
       "      <th>TotalSale</th>\n",
       "      <th>Frequency</th>\n",
       "      <th>customer_type</th>\n",
       "    </tr>\n",
       "  </thead>\n",
       "  <tbody>\n",
       "    <tr>\n",
       "      <th>0</th>\n",
       "      <td>594</td>\n",
       "      <td>179</td>\n",
       "      <td>250</td>\n",
       "      <td>7.391510</td>\n",
       "      <td>375.37</td>\n",
       "      <td>210</td>\n",
       "      <td>high-spending</td>\n",
       "    </tr>\n",
       "    <tr>\n",
       "      <th>1</th>\n",
       "      <td>304</td>\n",
       "      <td>36</td>\n",
       "      <td>148</td>\n",
       "      <td>5.106603</td>\n",
       "      <td>125.22</td>\n",
       "      <td>42</td>\n",
       "      <td>medium-spending</td>\n",
       "    </tr>\n",
       "    <tr>\n",
       "      <th>2</th>\n",
       "      <td>768</td>\n",
       "      <td>71</td>\n",
       "      <td>224</td>\n",
       "      <td>6.080053</td>\n",
       "      <td>221.98</td>\n",
       "      <td>82</td>\n",
       "      <td>high-spending</td>\n",
       "    </tr>\n",
       "    <tr>\n",
       "      <th>3</th>\n",
       "      <td>354</td>\n",
       "      <td>98</td>\n",
       "      <td>95</td>\n",
       "      <td>6.446780</td>\n",
       "      <td>426.26</td>\n",
       "      <td>145</td>\n",
       "      <td>high-spending</td>\n",
       "    </tr>\n",
       "    <tr>\n",
       "      <th>4</th>\n",
       "      <td>96</td>\n",
       "      <td>11</td>\n",
       "      <td>96</td>\n",
       "      <td>3.459432</td>\n",
       "      <td>23.65</td>\n",
       "      <td>11</td>\n",
       "      <td>medium-spending</td>\n",
       "    </tr>\n",
       "    <tr>\n",
       "      <th>...</th>\n",
       "      <td>...</td>\n",
       "      <td>...</td>\n",
       "      <td>...</td>\n",
       "      <td>...</td>\n",
       "      <td>...</td>\n",
       "      <td>...</td>\n",
       "      <td>...</td>\n",
       "    </tr>\n",
       "    <tr>\n",
       "      <th>3316</th>\n",
       "      <td>270</td>\n",
       "      <td>24</td>\n",
       "      <td>146</td>\n",
       "      <td>4.546594</td>\n",
       "      <td>53.98</td>\n",
       "      <td>26</td>\n",
       "      <td>medium-spending</td>\n",
       "    </tr>\n",
       "    <tr>\n",
       "      <th>3317</th>\n",
       "      <td>10</td>\n",
       "      <td>1</td>\n",
       "      <td>10</td>\n",
       "      <td>1.000000</td>\n",
       "      <td>2.08</td>\n",
       "      <td>1</td>\n",
       "      <td>low-spending</td>\n",
       "    </tr>\n",
       "    <tr>\n",
       "      <th>3318</th>\n",
       "      <td>151</td>\n",
       "      <td>39</td>\n",
       "      <td>79</td>\n",
       "      <td>5.194236</td>\n",
       "      <td>108.81</td>\n",
       "      <td>48</td>\n",
       "      <td>medium-spending</td>\n",
       "    </tr>\n",
       "    <tr>\n",
       "      <th>3319</th>\n",
       "      <td>15</td>\n",
       "      <td>4</td>\n",
       "      <td>15</td>\n",
       "      <td>2.000000</td>\n",
       "      <td>17.10</td>\n",
       "      <td>4</td>\n",
       "      <td>low-spending</td>\n",
       "    </tr>\n",
       "    <tr>\n",
       "      <th>3320</th>\n",
       "      <td>486</td>\n",
       "      <td>104</td>\n",
       "      <td>195</td>\n",
       "      <td>6.601410</td>\n",
       "      <td>276.86</td>\n",
       "      <td>128</td>\n",
       "      <td>high-spending</td>\n",
       "    </tr>\n",
       "  </tbody>\n",
       "</table>\n",
       "<p>3321 rows × 7 columns</p>\n",
       "</div>"
      ],
      "text/plain": [
       "      TotalItems  DistinctItems  MaxItems   Entropy  TotalSale  Frequency  \\\n",
       "0            594            179       250  7.391510     375.37        210   \n",
       "1            304             36       148  5.106603     125.22         42   \n",
       "2            768             71       224  6.080053     221.98         82   \n",
       "3            354             98        95  6.446780     426.26        145   \n",
       "4             96             11        96  3.459432      23.65         11   \n",
       "...          ...            ...       ...       ...        ...        ...   \n",
       "3316         270             24       146  4.546594      53.98         26   \n",
       "3317          10              1        10  1.000000       2.08          1   \n",
       "3318         151             39        79  5.194236     108.81         48   \n",
       "3319          15              4        15  2.000000      17.10          4   \n",
       "3320         486            104       195  6.601410     276.86        128   \n",
       "\n",
       "        customer_type  \n",
       "0       high-spending  \n",
       "1     medium-spending  \n",
       "2       high-spending  \n",
       "3       high-spending  \n",
       "4     medium-spending  \n",
       "...               ...  \n",
       "3316  medium-spending  \n",
       "3317     low-spending  \n",
       "3318  medium-spending  \n",
       "3319     low-spending  \n",
       "3320    high-spending  \n",
       "\n",
       "[3321 rows x 7 columns]"
      ]
     },
     "execution_count": 6,
     "metadata": {},
     "output_type": "execute_result"
    }
   ],
   "source": [
    "df"
   ]
  },
  {
   "cell_type": "code",
   "execution_count": 7,
   "metadata": {},
   "outputs": [],
   "source": [
    "# label 0: high-spending\n",
    "# label 1: medium-spending\n",
    "# label 2: low-spending\n",
    "df['customer_type'] = df['customer_type'].replace('high-spending', 0)\n",
    "df['customer_type'] = df['customer_type'].replace('medium-spending', 1)\n",
    "df['customer_type'] = df['customer_type'].replace('low-spending', 2)"
   ]
  },
  {
   "cell_type": "code",
   "execution_count": 8,
   "metadata": {},
   "outputs": [],
   "source": [
    "y = df['customer_type']\n",
    "X = df.drop(columns=['customer_type'])"
   ]
  },
  {
   "cell_type": "markdown",
   "metadata": {},
   "source": [
    "## Try my Neural Network"
   ]
  },
  {
   "cell_type": "code",
   "execution_count": 9,
   "metadata": {},
   "outputs": [],
   "source": [
    "from wavegrad.utility import *\n",
    "from wavegrad.network import Sequential\n",
    "from wavegrad.layers import LayerDense\n",
    "from wavegrad.activations import *\n",
    "from wavegrad.losses import MAE, MSE\n",
    "from wavegrad.optimizers import *\n",
    "from wavegrad.regularizer import L2\n",
    "from keras.utils import np_utils"
   ]
  },
  {
   "cell_type": "code",
   "execution_count": 11,
   "metadata": {},
   "outputs": [],
   "source": [
    "# X_train = X_train.values\n",
    "# X_test = X_test.values"
   ]
  },
  {
   "cell_type": "code",
   "execution_count": 12,
   "metadata": {},
   "outputs": [],
   "source": [
    "# y_train = np_utils.to_categorical(y_train)\n",
    "# y_test = np_utils.to_categorical(y_test)\n",
    "# y_train = y_train.values.reshape(y_train.shape[0], 1)\n",
    "# y_test = y_test.values.reshape(y_test.shape[0], 1)"
   ]
  },
  {
   "cell_type": "code",
   "execution_count": 13,
   "metadata": {},
   "outputs": [],
   "source": [
    "# print(X_train.shape)\n",
    "# print(y_train.shape)\n",
    "# print(X_test.shape)\n",
    "# print(y_test.shape)"
   ]
  },
  {
   "cell_type": "code",
   "execution_count": 14,
   "metadata": {},
   "outputs": [],
   "source": [
    "# unskew the data\n",
    "# rfm_log = df[['TotalSale', 'TotalItems', 'DistinctItems', 'MaxItems', 'Entropy', 'Frequency']].apply(np.log, axis = 1).round(3)\n",
    "rfm_log = df[['DistinctItems', 'MaxItems', 'Entropy', 'Frequency']].apply(np.log, axis = 1).round(3)\n",
    "# df = df[['DistinctItems', 'MaxItems', 'Entropy', 'Frequency']]"
   ]
  },
  {
   "cell_type": "code",
   "execution_count": 15,
   "metadata": {},
   "outputs": [],
   "source": [
    "from sklearn.preprocessing import StandardScaler\n",
    "\n",
    "# scale the data\n",
    "scaler = StandardScaler()\n",
    "df_scaled = scaler.fit_transform(rfm_log)# transform into a dataframe\n",
    "df_scaled = pd.DataFrame(df_scaled, index = rfm_log.index, columns = rfm_log.columns)"
   ]
  },
  {
   "cell_type": "code",
   "execution_count": 20,
   "metadata": {},
   "outputs": [],
   "source": [
    "X_train = df_scaled.values\n",
    "y_train = y.values"
   ]
  },
  {
   "cell_type": "code",
   "execution_count": 21,
   "metadata": {},
   "outputs": [],
   "source": [
    "y_train = np_utils.to_categorical(y_train)"
   ]
  },
  {
   "cell_type": "code",
   "execution_count": 22,
   "metadata": {},
   "outputs": [
    {
     "name": "stdout",
     "output_type": "stream",
     "text": [
      "(3321, 4)\n",
      "(3321, 3)\n"
     ]
    }
   ],
   "source": [
    "print(X_train.shape)\n",
    "print(y_train.shape)"
   ]
  },
  {
   "cell_type": "code",
   "execution_count": 24,
   "metadata": {},
   "outputs": [
    {
     "name": "stderr",
     "output_type": "stream",
     "text": [
      "epoch 200/200   error=0.04    accuracy=0.94    val_error=0.05    val_acc=0.94: 100%|██████████| 200/200 [00:52<00:00,  3.82it/s]\n"
     ]
    }
   ],
   "source": [
    "# # Network\n",
    "net = Sequential()\n",
    "net.add(LayerDense(4, 10, relu))\n",
    "net.add(LayerDense(10, 3, sigmoid))\n",
    "\n",
    "reg = L2(l2=0.001)\n",
    "optim = GD(net.layers, lr=0.001, momentum=0.6)\n",
    "net.use(MSE)\n",
    "net.fit(X_train, y_train, epochs=200, optimizer=optim, validation_split=0.2, regularizer=reg)"
   ]
  },
  {
   "cell_type": "code",
   "execution_count": 104,
   "metadata": {},
   "outputs": [
    {
     "data": {
      "image/png": "[encoded data removed]",
      "text/plain": [
       "<Figure size 432x288 with 1 Axes>"
      ]
     },
     "metadata": {},
     "output_type": "display_data"
    }
   ],
   "source": [
    "plot_loss(net)"
   ]
  },
  {
   "cell_type": "code",
   "execution_count": 105,
   "metadata": {},
   "outputs": [
    {
     "data": {
      "image/png": "[encoded data removed]",
      "text/plain": [
       "<Figure size 432x288 with 1 Axes>"
      ]
     },
     "metadata": {},
     "output_type": "display_data"
    }
   ],
   "source": [
    "plot_accuracy(net)"
   ]
  },
  {
   "cell_type": "code",
   "execution_count": 95,
   "metadata": {},
   "outputs": [],
   "source": [
    "test = pd.read_csv(path + 'test.csv')"
   ]
  },
  {
   "cell_type": "code",
   "execution_count": 96,
   "metadata": {},
   "outputs": [],
   "source": [
    "# Drop the id column, it' s not necessary to the classification task\n",
    "test.drop(test.columns[0], axis=1, inplace=True)\n",
    "test.drop(test.columns[6], axis=1, inplace=True)"
   ]
  },
  {
   "cell_type": "code",
   "execution_count": 97,
   "metadata": {},
   "outputs": [],
   "source": [
    "rfm_log = test[['DistinctItems', 'MaxItems', 'Entropy', 'Frequency']].apply(np.log, axis = 1).round(3)"
   ]
  },
  {
   "cell_type": "code",
   "execution_count": 98,
   "metadata": {},
   "outputs": [],
   "source": [
    "scaler = StandardScaler()\n",
    "df_scaled = scaler.fit_transform(rfm_log)# transform into a dataframe\n",
    "df_scaled = pd.DataFrame(df_scaled, index = rfm_log.index, columns = rfm_log.columns)"
   ]
  },
  {
   "cell_type": "code",
   "execution_count": 99,
   "metadata": {},
   "outputs": [],
   "source": [
    "# label 0: high-spending\n",
    "# label 1: medium-spending\n",
    "# label 2: low-spending\n",
    "test['customer_type'] = test['customer_type'].replace('high-spending', 0)\n",
    "test['customer_type'] = test['customer_type'].replace('medium-spending', 1)\n",
    "test['customer_type'] = test['customer_type'].replace('low-spending', 2)"
   ]
  },
  {
   "cell_type": "code",
   "execution_count": 100,
   "metadata": {},
   "outputs": [],
   "source": [
    "y = test['customer_type']"
   ]
  },
  {
   "cell_type": "code",
   "execution_count": 101,
   "metadata": {},
   "outputs": [],
   "source": [
    "# y = test['customer_type']\n",
    "# X = test.drop(columns=['customer_type','TotalItems','TotalSale'])"
   ]
  },
  {
   "cell_type": "code",
   "execution_count": 102,
   "metadata": {},
   "outputs": [],
   "source": [
    "X_test = df_scaled.values\n",
    "y_test = np_utils.to_categorical(y)"
   ]
  },
  {
   "cell_type": "code",
   "execution_count": 103,
   "metadata": {},
   "outputs": [
    {
     "data": {
      "text/plain": [
       "0.9314079422382672"
      ]
     },
     "execution_count": 103,
     "metadata": {},
     "output_type": "execute_result"
    }
   ],
   "source": [
    "# Test set accuracy on test set.\n",
    "out = net.predict(X_test)\n",
    "accuracy(y_test, out)"
   ]
  },
  {
   "cell_type": "code",
   "execution_count": null,
   "metadata": {},
   "outputs": [],
   "source": []
  }
 ],
 "metadata": {
  "kernelspec": {
   "display_name": "Python 3",
   "language": "python",
   "name": "python3"
  },
  "language_info": {
   "codemirror_mode": {
    "name": "ipython",
    "version": 3
   },
   "file_extension": ".py",
   "mimetype": "text/x-python",
   "name": "python",
   "nbconvert_exporter": "python",
   "pygments_lexer": "ipython3",
   "version": "3.8.6"
  }
 },
 "nbformat": 4,
 "nbformat_minor": 4
}

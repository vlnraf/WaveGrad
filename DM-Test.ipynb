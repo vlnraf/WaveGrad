{
 "cells": [
  {
   "cell_type": "code",
   "execution_count": 1,
   "metadata": {},
   "outputs": [],
   "source": [
    "%matplotlib inline"
   ]
  },
  {
   "cell_type": "code",
   "execution_count": 2,
   "metadata": {},
   "outputs": [],
   "source": [
    "import pandas as pd\n",
    "import numpy as np\n",
    "import matplotlib.pyplot as plt\n",
    "from sklearn.model_selection import train_test_split\n",
    "from sklearn.model_selection import GridSearchCV\n",
    "from sklearn.metrics import classification_report\n",
    "from sklearn.neighbors import KNeighborsClassifier"
   ]
  },
  {
   "cell_type": "code",
   "execution_count": 3,
   "metadata": {},
   "outputs": [],
   "source": [
    "path = '~/Documents/dmproject/datasets/'"
   ]
  },
  {
   "cell_type": "code",
   "execution_count": 4,
   "metadata": {},
   "outputs": [],
   "source": [
    "df = pd.read_csv(path + 'new_features.csv')"
   ]
  },
  {
   "cell_type": "code",
   "execution_count": 5,
   "metadata": {},
   "outputs": [],
   "source": [
    "# Drop the id column, it' s not necessary to the classification task\n",
    "df.drop(df.columns[0], axis=1, inplace=True)\n",
    "df.drop(df.columns[6], axis=1, inplace=True)"
   ]
  },
  {
   "cell_type": "code",
   "execution_count": 6,
   "metadata": {},
   "outputs": [
    {
     "data": {
      "text/html": [
       "<div>\n",
       "<style scoped>\n",
       "    .dataframe tbody tr th:only-of-type {\n",
       "        vertical-align: middle;\n",
       "    }\n",
       "\n",
       "    .dataframe tbody tr th {\n",
       "        vertical-align: top;\n",
       "    }\n",
       "\n",
       "    .dataframe thead th {\n",
       "        text-align: right;\n",
       "    }\n",
       "</style>\n",
       "<table border=\"1\" class=\"dataframe\">\n",
       "  <thead>\n",
       "    <tr style=\"text-align: right;\">\n",
       "      <th></th>\n",
       "      <th>TotalItems</th>\n",
       "      <th>DistinctItems</th>\n",
       "      <th>MaxItems</th>\n",
       "      <th>Entropy</th>\n",
       "      <th>TotalSale</th>\n",
       "      <th>Frequency</th>\n",
       "      <th>customer_type</th>\n",
       "    </tr>\n",
       "  </thead>\n",
       "  <tbody>\n",
       "    <tr>\n",
       "      <th>0</th>\n",
       "      <td>1135</td>\n",
       "      <td>82</td>\n",
       "      <td>316</td>\n",
       "      <td>6.114311</td>\n",
       "      <td>342.22</td>\n",
       "      <td>131</td>\n",
       "      <td>high-spending</td>\n",
       "    </tr>\n",
       "    <tr>\n",
       "      <th>1</th>\n",
       "      <td>436</td>\n",
       "      <td>50</td>\n",
       "      <td>436</td>\n",
       "      <td>5.643856</td>\n",
       "      <td>117.96</td>\n",
       "      <td>50</td>\n",
       "      <td>high-spending</td>\n",
       "    </tr>\n",
       "    <tr>\n",
       "      <th>2</th>\n",
       "      <td>172</td>\n",
       "      <td>15</td>\n",
       "      <td>172</td>\n",
       "      <td>3.906891</td>\n",
       "      <td>24.45</td>\n",
       "      <td>15</td>\n",
       "      <td>medium-spending</td>\n",
       "    </tr>\n",
       "    <tr>\n",
       "      <th>3</th>\n",
       "      <td>413</td>\n",
       "      <td>45</td>\n",
       "      <td>119</td>\n",
       "      <td>5.286226</td>\n",
       "      <td>180.70</td>\n",
       "      <td>66</td>\n",
       "      <td>high-spending</td>\n",
       "    </tr>\n",
       "    <tr>\n",
       "      <th>4</th>\n",
       "      <td>14</td>\n",
       "      <td>2</td>\n",
       "      <td>14</td>\n",
       "      <td>1.000000</td>\n",
       "      <td>4.40</td>\n",
       "      <td>2</td>\n",
       "      <td>low-spending</td>\n",
       "    </tr>\n",
       "    <tr>\n",
       "      <th>...</th>\n",
       "      <td>...</td>\n",
       "      <td>...</td>\n",
       "      <td>...</td>\n",
       "      <td>...</td>\n",
       "      <td>...</td>\n",
       "      <td>...</td>\n",
       "      <td>...</td>\n",
       "    </tr>\n",
       "    <tr>\n",
       "      <th>4147</th>\n",
       "      <td>37</td>\n",
       "      <td>7</td>\n",
       "      <td>37</td>\n",
       "      <td>2.807355</td>\n",
       "      <td>23.85</td>\n",
       "      <td>7</td>\n",
       "      <td>low-spending</td>\n",
       "    </tr>\n",
       "    <tr>\n",
       "      <th>4148</th>\n",
       "      <td>52</td>\n",
       "      <td>5</td>\n",
       "      <td>52</td>\n",
       "      <td>2.321928</td>\n",
       "      <td>5.46</td>\n",
       "      <td>5</td>\n",
       "      <td>low-spending</td>\n",
       "    </tr>\n",
       "    <tr>\n",
       "      <th>4149</th>\n",
       "      <td>44</td>\n",
       "      <td>8</td>\n",
       "      <td>26</td>\n",
       "      <td>3.000000</td>\n",
       "      <td>17.39</td>\n",
       "      <td>8</td>\n",
       "      <td>low-spending</td>\n",
       "    </tr>\n",
       "    <tr>\n",
       "      <th>4150</th>\n",
       "      <td>1351</td>\n",
       "      <td>257</td>\n",
       "      <td>241</td>\n",
       "      <td>7.468946</td>\n",
       "      <td>1119.53</td>\n",
       "      <td>715</td>\n",
       "      <td>high-spending</td>\n",
       "    </tr>\n",
       "    <tr>\n",
       "      <th>4151</th>\n",
       "      <td>288</td>\n",
       "      <td>29</td>\n",
       "      <td>190</td>\n",
       "      <td>4.857981</td>\n",
       "      <td>55.19</td>\n",
       "      <td>29</td>\n",
       "      <td>medium-spending</td>\n",
       "    </tr>\n",
       "  </tbody>\n",
       "</table>\n",
       "<p>4152 rows × 7 columns</p>\n",
       "</div>"
      ],
      "text/plain": [
       "      TotalItems  DistinctItems  MaxItems   Entropy  TotalSale  Frequency  \\\n",
       "0           1135             82       316  6.114311     342.22        131   \n",
       "1            436             50       436  5.643856     117.96         50   \n",
       "2            172             15       172  3.906891      24.45         15   \n",
       "3            413             45       119  5.286226     180.70         66   \n",
       "4             14              2        14  1.000000       4.40          2   \n",
       "...          ...            ...       ...       ...        ...        ...   \n",
       "4147          37              7        37  2.807355      23.85          7   \n",
       "4148          52              5        52  2.321928       5.46          5   \n",
       "4149          44              8        26  3.000000      17.39          8   \n",
       "4150        1351            257       241  7.468946    1119.53        715   \n",
       "4151         288             29       190  4.857981      55.19         29   \n",
       "\n",
       "        customer_type  \n",
       "0       high-spending  \n",
       "1       high-spending  \n",
       "2     medium-spending  \n",
       "3       high-spending  \n",
       "4        low-spending  \n",
       "...               ...  \n",
       "4147     low-spending  \n",
       "4148     low-spending  \n",
       "4149     low-spending  \n",
       "4150    high-spending  \n",
       "4151  medium-spending  \n",
       "\n",
       "[4152 rows x 7 columns]"
      ]
     },
     "execution_count": 6,
     "metadata": {},
     "output_type": "execute_result"
    }
   ],
   "source": [
    "df"
   ]
  },
  {
   "cell_type": "code",
   "execution_count": 7,
   "metadata": {},
   "outputs": [],
   "source": [
    "# label 0: high-spending\n",
    "# label 1: medium-spending\n",
    "# label 2: low-spending\n",
    "df['customer_type'] = df['customer_type'].replace('high-spending', 0)\n",
    "df['customer_type'] = df['customer_type'].replace('medium-spending', 1)\n",
    "df['customer_type'] = df['customer_type'].replace('low-spending', 2)"
   ]
  },
  {
   "cell_type": "code",
   "execution_count": 8,
   "metadata": {},
   "outputs": [],
   "source": [
    "y = df['customer_type']\n",
    "X = df.drop(columns=['customer_type'])"
   ]
  },
  {
   "cell_type": "code",
   "execution_count": 9,
   "metadata": {},
   "outputs": [],
   "source": [
    "X_train, X_test, y_train, y_test = train_test_split(X, y, test_size=0.2, random_state=0)"
   ]
  },
  {
   "cell_type": "code",
   "execution_count": 10,
   "metadata": {},
   "outputs": [
    {
     "name": "stdout",
     "output_type": "stream",
     "text": [
      "# Tuning hyper-parameters for ----> f1_macro\n",
      "\n",
      "Best parameters set found on development set:\n",
      "\n",
      "{'n_neighbors': 13, 'weights': 'distance'}\n",
      "\n",
      "Grid scores on development set:\n",
      "\n",
      "0.973 (+/-0.010) for {'n_neighbors': 1, 'weights': 'uniform'}\n",
      "0.973 (+/-0.010) for {'n_neighbors': 1, 'weights': 'distance'}\n",
      "0.975 (+/-0.006) for {'n_neighbors': 4, 'weights': 'uniform'}\n",
      "0.977 (+/-0.005) for {'n_neighbors': 4, 'weights': 'distance'}\n",
      "0.972 (+/-0.010) for {'n_neighbors': 7, 'weights': 'uniform'}\n",
      "0.975 (+/-0.009) for {'n_neighbors': 7, 'weights': 'distance'}\n",
      "0.975 (+/-0.008) for {'n_neighbors': 10, 'weights': 'uniform'}\n",
      "0.977 (+/-0.004) for {'n_neighbors': 10, 'weights': 'distance'}\n",
      "0.976 (+/-0.010) for {'n_neighbors': 13, 'weights': 'uniform'}\n",
      "0.979 (+/-0.004) for {'n_neighbors': 13, 'weights': 'distance'}\n",
      "0.975 (+/-0.005) for {'n_neighbors': 16, 'weights': 'uniform'}\n",
      "0.977 (+/-0.007) for {'n_neighbors': 16, 'weights': 'distance'}\n",
      "0.972 (+/-0.006) for {'n_neighbors': 19, 'weights': 'uniform'}\n",
      "0.976 (+/-0.006) for {'n_neighbors': 19, 'weights': 'distance'}\n",
      "0.972 (+/-0.006) for {'n_neighbors': 22, 'weights': 'uniform'}\n",
      "0.976 (+/-0.005) for {'n_neighbors': 22, 'weights': 'distance'}\n",
      "0.969 (+/-0.010) for {'n_neighbors': 25, 'weights': 'uniform'}\n",
      "0.975 (+/-0.004) for {'n_neighbors': 25, 'weights': 'distance'}\n",
      "0.968 (+/-0.009) for {'n_neighbors': 28, 'weights': 'uniform'}\n",
      "0.972 (+/-0.004) for {'n_neighbors': 28, 'weights': 'distance'}\n",
      "\n",
      "Detailed classification report:\n",
      "\n",
      "The model is trained on the full development set.\n",
      "The scores are computed on the full evaluation set.\n",
      "\n",
      "              precision    recall  f1-score   support\n",
      "\n",
      "           0       0.99      0.97      0.98       289\n",
      "           1       0.97      0.97      0.97       392\n",
      "           2       0.95      0.99      0.97       150\n",
      "\n",
      "    accuracy                           0.97       831\n",
      "   macro avg       0.97      0.98      0.97       831\n",
      "weighted avg       0.97      0.97      0.97       831\n",
      "\n",
      "\n"
     ]
    }
   ],
   "source": [
    "# Set the parameters by cross-validation\n",
    "tuned_parameters = {\n",
    "    'n_neighbors': list(range(1, 31, 3)),\n",
    "    'weights': ['uniform', 'distance'],\n",
    "}\n",
    "\n",
    "#scores = ['precision', 'recall', 'f1']\n",
    "scores = ['f1_macro']\n",
    "\n",
    "for score in scores:\n",
    "    print(\"# Tuning hyper-parameters for ----> %s\" % score)\n",
    "    print()\n",
    "    \n",
    "    obj = KNeighborsClassifier()   \n",
    "    \n",
    "    if (score == \"f1_macro\"):\n",
    "      clf = GridSearchCV(obj, tuned_parameters, cv=5, scoring=score)\n",
    "    else:\n",
    "      clf = GridSearchCV(obj, tuned_parameters, cv=5, scoring='%s_macro' % score)\n",
    "\n",
    "    clf.fit(X_train, y_train)\n",
    "\n",
    "    print(\"Best parameters set found on development set:\")\n",
    "    print()\n",
    "    print(clf.best_params_)\n",
    "    print()\n",
    "    print(\"Grid scores on development set:\")\n",
    "    print()\n",
    "    means = clf.cv_results_['mean_test_score']\n",
    "    stds = clf.cv_results_['std_test_score']\n",
    "    for mean, std, params in zip(means, stds, clf.cv_results_['params']):\n",
    "        print(\"%0.3f (+/-%0.03f) for %r\"\n",
    "              % (mean, std * 2, params))\n",
    "    print()\n",
    "\n",
    "    print(\"Detailed classification report:\")\n",
    "    print()\n",
    "    print(\"The model is trained on the full development set.\")\n",
    "    print(\"The scores are computed on the full evaluation set.\")\n",
    "    print()\n",
    "    y_true, y_pred = y_test, clf.predict(X_test)\n",
    "    print(classification_report(y_true, y_pred))\n",
    "    print()"
   ]
  },
  {
   "cell_type": "code",
   "execution_count": 11,
   "metadata": {},
   "outputs": [
    {
     "data": {
      "text/plain": [
       "dict_keys(['explained_variance', 'r2', 'max_error', 'neg_median_absolute_error', 'neg_mean_absolute_error', 'neg_mean_squared_error', 'neg_mean_squared_log_error', 'neg_root_mean_squared_error', 'neg_mean_poisson_deviance', 'neg_mean_gamma_deviance', 'accuracy', 'roc_auc', 'roc_auc_ovr', 'roc_auc_ovo', 'roc_auc_ovr_weighted', 'roc_auc_ovo_weighted', 'balanced_accuracy', 'average_precision', 'neg_log_loss', 'neg_brier_score', 'adjusted_rand_score', 'homogeneity_score', 'completeness_score', 'v_measure_score', 'mutual_info_score', 'adjusted_mutual_info_score', 'normalized_mutual_info_score', 'fowlkes_mallows_score', 'precision', 'precision_macro', 'precision_micro', 'precision_samples', 'precision_weighted', 'recall', 'recall_macro', 'recall_micro', 'recall_samples', 'recall_weighted', 'f1', 'f1_macro', 'f1_micro', 'f1_samples', 'f1_weighted', 'jaccard', 'jaccard_macro', 'jaccard_micro', 'jaccard_samples', 'jaccard_weighted'])"
      ]
     },
     "execution_count": 11,
     "metadata": {},
     "output_type": "execute_result"
    }
   ],
   "source": [
    "import sklearn\n",
    "sklearn.metrics.SCORERS.keys()"
   ]
  },
  {
   "cell_type": "markdown",
   "metadata": {},
   "source": [
    "## Try my Neural Network"
   ]
  },
  {
   "cell_type": "code",
   "execution_count": 12,
   "metadata": {},
   "outputs": [],
   "source": [
    "from wavegrad.utility import *\n",
    "from wavegrad.network import Sequential\n",
    "from wavegrad.layers import LayerDense\n",
    "from wavegrad.activations import *\n",
    "from wavegrad.losses import MAE, MSE\n",
    "from wavegrad.optimizers import *\n",
    "from wavegrad.regularizer import L2\n",
    "from keras.utils import np_utils"
   ]
  },
  {
   "cell_type": "code",
   "execution_count": 13,
   "metadata": {},
   "outputs": [],
   "source": [
    "X_train = X_train.values\n",
    "X_test = X_test.values"
   ]
  },
  {
   "cell_type": "code",
   "execution_count": 14,
   "metadata": {},
   "outputs": [],
   "source": [
    "y_train = np_utils.to_categorical(y_train)\n",
    "y_test = np_utils.to_categorical(y_test)"
   ]
  },
  {
   "cell_type": "code",
   "execution_count": 15,
   "metadata": {},
   "outputs": [
    {
     "data": {
      "text/plain": [
       "(3321, 6)"
      ]
     },
     "execution_count": 15,
     "metadata": {},
     "output_type": "execute_result"
    }
   ],
   "source": [
    "X_train.shape"
   ]
  },
  {
   "cell_type": "code",
   "execution_count": 16,
   "metadata": {},
   "outputs": [
    {
     "data": {
      "text/plain": [
       "array([[1., 0., 0.],\n",
       "       [0., 1., 0.],\n",
       "       [0., 1., 0.],\n",
       "       ...,\n",
       "       [0., 1., 0.],\n",
       "       [1., 0., 0.],\n",
       "       [0., 1., 0.]], dtype=float32)"
      ]
     },
     "execution_count": 16,
     "metadata": {},
     "output_type": "execute_result"
    }
   ],
   "source": [
    "y_test"
   ]
  },
  {
   "cell_type": "code",
   "execution_count": 53,
   "metadata": {
    "scrolled": true
   },
   "outputs": [
    {
     "name": "stderr",
     "output_type": "stream",
     "text": [
      "epoch 200/200   error=0.13    accuracy=0.81    val_error=0.15    val_acc=0.79: 100%|██████████| 200/200 [00:56<00:00,  3.54it/s]\n"
     ]
    }
   ],
   "source": [
    "# # Network\n",
    "net = Sequential()\n",
    "net.add(LayerDense(6, 10, sigmoid))\n",
    "net.add(LayerDense(10, 3, sigmoid))\n",
    "\n",
    "reg = L2(l2=0.001)\n",
    "optim = GD(net.layers, lr=0.001, momentum=0.6)\n",
    "net.use(MSE)\n",
    "net.fit(X_train, y_train, epochs=200, optimizer=optim, validation_split=0.2, regularizer=reg)"
   ]
  },
  {
   "cell_type": "code",
   "execution_count": 54,
   "metadata": {},
   "outputs": [
    {
     "data": {
      "image/png": "[encoded data removed]",
      "text/plain": [
       "<Figure size 432x288 with 1 Axes>"
      ]
     },
     "metadata": {},
     "output_type": "display_data"
    },
    {
     "data": {
      "image/png": "[encoded data removed]",
      "text/plain": [
       "<Figure size 432x288 with 1 Axes>"
      ]
     },
     "metadata": {},
     "output_type": "display_data"
    }
   ],
   "source": [
    "plot_loss(net)\n",
    "plot_accuracy(net)"
   ]
  },
  {
   "cell_type": "code",
   "execution_count": 56,
   "metadata": {},
   "outputs": [
    {
     "data": {
      "text/plain": [
       "0.7942238267148014"
      ]
     },
     "execution_count": 56,
     "metadata": {},
     "output_type": "execute_result"
    }
   ],
   "source": [
    "# Test accuracy on test set.\n",
    "out = net.predict(X_test)\n",
    "accuracy(y_test, out)"
   ]
  },
  {
   "cell_type": "code",
   "execution_count": null,
   "metadata": {},
   "outputs": [],
   "source": []
  }
 ],
 "metadata": {
  "kernelspec": {
   "display_name": "Python 3",
   "language": "python",
   "name": "python3"
  },
  "language_info": {
   "codemirror_mode": {
    "name": "ipython",
    "version": 3
   },
   "file_extension": ".py",
   "mimetype": "text/x-python",
   "name": "python",
   "nbconvert_exporter": "python",
   "pygments_lexer": "ipython3",
   "version": "3.8.6"
  }
 },
 "nbformat": 4,
 "nbformat_minor": 4
}
